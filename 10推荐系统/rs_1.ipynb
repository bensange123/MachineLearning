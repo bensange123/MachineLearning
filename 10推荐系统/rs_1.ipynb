{
 "cells": [
  {
   "cell_type": "markdown",
   "metadata": {},
   "source": [
    "# 协同过滤：求用户的相似度，基于用户的方法"
   ]
  },
  {
   "cell_type": "code",
   "execution_count": 14,
   "metadata": {},
   "outputs": [
    {
     "name": "stdout",
     "output_type": "stream",
     "text": [
      "Computing the msd similarity matrix...\n",
      "Done computing similarity matrix.\n",
      "Computing the msd similarity matrix...\n",
      "Done computing similarity matrix.\n",
      "Computing the msd similarity matrix...\n",
      "Done computing similarity matrix.\n",
      "Computing the msd similarity matrix...\n",
      "Done computing similarity matrix.\n",
      "Computing the msd similarity matrix...\n",
      "Done computing similarity matrix.\n",
      "        Fold 1  Fold 2  Fold 3  Fold 4  Fold 5  Mean    \n",
      "TEST_RMSE0.9763  0.9810  0.9847  0.9697  0.9811  0.9786  \n",
      "TEST_MAE0.7719  0.7764  0.7758  0.7671  0.7734  0.7729  \n",
      "FIT_TIME0.5285  0.5552  0.5495  0.5521  0.5555  0.5482  \n",
      "TEST_TIME3.3078  3.3966  3.4591  3.5935  3.4465  3.4407  \n"
     ]
    }
   ],
   "source": [
    "#需要安装surprise库：pip install surprise,但是在此之前需要先安装Microsoft C++\n",
    "from surprise import KNNBasic,SVD\n",
    "# KNNBasic: 是相当于是协同过滤算法\n",
    "# SVD是基于矩阵分解的，对应于隐语义模型\n",
    "from surprise import Dataset\n",
    "from surprise import model_selection, print_perf\n",
    "# 官网：http://surprise.readthedocs.io/en/stable/index.html\n",
    "# 测试的数据集下载： http://files.grouplens.org/datasets/movielens/ml-100k-README.txt\n",
    "\n",
    "# Load the movielens-100k dataset (download it if needed),\n",
    "# and split it into 3 folds for cross-validation.\n",
    "data = Dataset.load_builtin('ml-100k')\n",
    "data.split(n_folds=3)\n",
    "\n",
    "# We'll use the famous KNNBasic algorithm.\n",
    "algo = KNNBasic() #实例化算法对象\n",
    "\n",
    "# Evaluate performances of our algorithm on the dataset.\n",
    "perf = model_selection.cross_validate(algo, data, measures=['RMSE', 'MAE'])\n",
    "#算法名字，数据，评估标准，RMSE：均方误差，MAE绝对误差\n",
    "\n",
    "print_perf(perf)"
   ]
  },
  {
   "cell_type": "markdown",
   "metadata": {},
   "source": [
    "# 隐语义模型"
   ]
  },
  {
   "cell_type": "code",
   "execution_count": 44,
   "metadata": {},
   "outputs": [
    {
     "name": "stdout",
     "output_type": "stream",
     "text": [
      "0.9640828425436142\n",
      "{'n_epochs': 10, 'lr_all': 0.005, 'reg_all': 0.4}\n"
     ]
    }
   ],
   "source": [
    "from surprise import SVD\n",
    "from surprise import Dataset\n",
    "from surprise.model_selection import GridSearchCV\n",
    "\n",
    "# Use movielens-100K\n",
    "data = Dataset.load_builtin('ml-100k')\n",
    "\n",
    "param_grid = {'n_epochs': [5, 10], 'lr_all': [0.002, 0.005],\n",
    "              'reg_all': [0.4, 0.6]} #正则化的系数\n",
    "gs = GridSearchCV(SVD, param_grid, measures=['rmse', 'fcp'], cv=3)\n",
    "\n",
    "gs.fit(data)"
   ]
  },
  {
   "cell_type": "code",
   "execution_count": 49,
   "metadata": {},
   "outputs": [
    {
     "name": "stdout",
     "output_type": "stream",
     "text": [
      "0.9640828425436142\n",
      "{'n_epochs': 10, 'lr_all': 0.005, 'reg_all': 0.4}\n",
      "0.6978407920875513\n",
      "{'n_epochs': 10, 'lr_all': 0.005, 'reg_all': 0.4}\n"
     ]
    }
   ],
   "source": [
    "# best RMSE score\n",
    "print(gs.best_score['rmse'])\n",
    "\n",
    "# combination of parameters that gave the best RMSE score\n",
    "print(gs.best_params['rmse'])\n",
    "\n",
    "# best FCP score\n",
    "print(gs.best_score['fcp'])\n",
    "\n",
    "# combination of parameters that gave the best FCP score\n",
    "print(gs.best_params['fcp'])\n"
   ]
  },
  {
   "cell_type": "code",
   "execution_count": 46,
   "metadata": {
    "scrolled": true
   },
   "outputs": [
    {
     "data": {
      "text/html": [
       "<div>\n",
       "<style scoped>\n",
       "    .dataframe tbody tr th:only-of-type {\n",
       "        vertical-align: middle;\n",
       "    }\n",
       "\n",
       "    .dataframe tbody tr th {\n",
       "        vertical-align: top;\n",
       "    }\n",
       "\n",
       "    .dataframe thead th {\n",
       "        text-align: right;\n",
       "    }\n",
       "</style>\n",
       "<table border=\"1\" class=\"dataframe\">\n",
       "  <thead>\n",
       "    <tr style=\"text-align: right;\">\n",
       "      <th></th>\n",
       "      <th>split0_test_rmse</th>\n",
       "      <th>split1_test_rmse</th>\n",
       "      <th>split2_test_rmse</th>\n",
       "      <th>split3_test_rmse</th>\n",
       "      <th>split4_test_rmse</th>\n",
       "      <th>mean_test_rmse</th>\n",
       "      <th>std_test_rmse</th>\n",
       "      <th>rank_test_rmse</th>\n",
       "      <th>split0_test_fcp</th>\n",
       "      <th>split1_test_fcp</th>\n",
       "      <th>...</th>\n",
       "      <th>std_test_fcp</th>\n",
       "      <th>rank_test_fcp</th>\n",
       "      <th>mean_fit_time</th>\n",
       "      <th>std_fit_time</th>\n",
       "      <th>mean_test_time</th>\n",
       "      <th>std_test_time</th>\n",
       "      <th>params</th>\n",
       "      <th>param_n_epochs</th>\n",
       "      <th>param_lr_all</th>\n",
       "      <th>param_reg_all</th>\n",
       "    </tr>\n",
       "  </thead>\n",
       "  <tbody>\n",
       "    <tr>\n",
       "      <th>0</th>\n",
       "      <td>0.992955</td>\n",
       "      <td>0.993510</td>\n",
       "      <td>0.990746</td>\n",
       "      <td>0.984586</td>\n",
       "      <td>0.992969</td>\n",
       "      <td>0.990953</td>\n",
       "      <td>0.003322</td>\n",
       "      <td>7</td>\n",
       "      <td>0.678077</td>\n",
       "      <td>0.684572</td>\n",
       "      <td>...</td>\n",
       "      <td>0.002528</td>\n",
       "      <td>1</td>\n",
       "      <td>1.134566</td>\n",
       "      <td>0.002721</td>\n",
       "      <td>0.157379</td>\n",
       "      <td>0.035611</td>\n",
       "      <td>{'n_epochs': 5, 'lr_all': 0.002, 'reg_all': 0.4}</td>\n",
       "      <td>5</td>\n",
       "      <td>0.002</td>\n",
       "      <td>0.4</td>\n",
       "    </tr>\n",
       "    <tr>\n",
       "      <th>1</th>\n",
       "      <td>0.999282</td>\n",
       "      <td>1.000517</td>\n",
       "      <td>0.997457</td>\n",
       "      <td>0.991284</td>\n",
       "      <td>1.000033</td>\n",
       "      <td>0.997715</td>\n",
       "      <td>0.003379</td>\n",
       "      <td>8</td>\n",
       "      <td>0.680027</td>\n",
       "      <td>0.686586</td>\n",
       "      <td>...</td>\n",
       "      <td>0.003045</td>\n",
       "      <td>2</td>\n",
       "      <td>1.115019</td>\n",
       "      <td>0.004505</td>\n",
       "      <td>0.154786</td>\n",
       "      <td>0.035263</td>\n",
       "      <td>{'n_epochs': 5, 'lr_all': 0.002, 'reg_all': 0.6}</td>\n",
       "      <td>5</td>\n",
       "      <td>0.002</td>\n",
       "      <td>0.6</td>\n",
       "    </tr>\n",
       "    <tr>\n",
       "      <th>2</th>\n",
       "      <td>0.971983</td>\n",
       "      <td>0.970754</td>\n",
       "      <td>0.969922</td>\n",
       "      <td>0.963016</td>\n",
       "      <td>0.972885</td>\n",
       "      <td>0.969712</td>\n",
       "      <td>0.003498</td>\n",
       "      <td>2</td>\n",
       "      <td>0.686659</td>\n",
       "      <td>0.692536</td>\n",
       "      <td>...</td>\n",
       "      <td>0.002110</td>\n",
       "      <td>5</td>\n",
       "      <td>1.116019</td>\n",
       "      <td>0.003280</td>\n",
       "      <td>0.152788</td>\n",
       "      <td>0.034042</td>\n",
       "      <td>{'n_epochs': 5, 'lr_all': 0.005, 'reg_all': 0.4}</td>\n",
       "      <td>5</td>\n",
       "      <td>0.005</td>\n",
       "      <td>0.4</td>\n",
       "    </tr>\n",
       "    <tr>\n",
       "      <th>3</th>\n",
       "      <td>0.981136</td>\n",
       "      <td>0.980838</td>\n",
       "      <td>0.978914</td>\n",
       "      <td>0.972058</td>\n",
       "      <td>0.982050</td>\n",
       "      <td>0.978999</td>\n",
       "      <td>0.003618</td>\n",
       "      <td>5</td>\n",
       "      <td>0.686049</td>\n",
       "      <td>0.693653</td>\n",
       "      <td>...</td>\n",
       "      <td>0.002822</td>\n",
       "      <td>6</td>\n",
       "      <td>1.112027</td>\n",
       "      <td>0.002601</td>\n",
       "      <td>0.153390</td>\n",
       "      <td>0.034792</td>\n",
       "      <td>{'n_epochs': 5, 'lr_all': 0.005, 'reg_all': 0.6}</td>\n",
       "      <td>5</td>\n",
       "      <td>0.005</td>\n",
       "      <td>0.6</td>\n",
       "    </tr>\n",
       "    <tr>\n",
       "      <th>4</th>\n",
       "      <td>0.975948</td>\n",
       "      <td>0.974880</td>\n",
       "      <td>0.973863</td>\n",
       "      <td>0.967261</td>\n",
       "      <td>0.976417</td>\n",
       "      <td>0.973674</td>\n",
       "      <td>0.003326</td>\n",
       "      <td>4</td>\n",
       "      <td>0.684040</td>\n",
       "      <td>0.690164</td>\n",
       "      <td>...</td>\n",
       "      <td>0.002899</td>\n",
       "      <td>3</td>\n",
       "      <td>2.218069</td>\n",
       "      <td>0.010498</td>\n",
       "      <td>0.168350</td>\n",
       "      <td>0.033647</td>\n",
       "      <td>{'n_epochs': 10, 'lr_all': 0.002, 'reg_all': 0.4}</td>\n",
       "      <td>10</td>\n",
       "      <td>0.002</td>\n",
       "      <td>0.4</td>\n",
       "    </tr>\n",
       "    <tr>\n",
       "      <th>5</th>\n",
       "      <td>0.984172</td>\n",
       "      <td>0.984343</td>\n",
       "      <td>0.982248</td>\n",
       "      <td>0.975544</td>\n",
       "      <td>0.985094</td>\n",
       "      <td>0.982280</td>\n",
       "      <td>0.003497</td>\n",
       "      <td>6</td>\n",
       "      <td>0.684864</td>\n",
       "      <td>0.693260</td>\n",
       "      <td>...</td>\n",
       "      <td>0.003057</td>\n",
       "      <td>4</td>\n",
       "      <td>2.211487</td>\n",
       "      <td>0.002148</td>\n",
       "      <td>0.152593</td>\n",
       "      <td>0.035018</td>\n",
       "      <td>{'n_epochs': 10, 'lr_all': 0.002, 'reg_all': 0.6}</td>\n",
       "      <td>10</td>\n",
       "      <td>0.002</td>\n",
       "      <td>0.6</td>\n",
       "    </tr>\n",
       "    <tr>\n",
       "      <th>6</th>\n",
       "      <td>0.963872</td>\n",
       "      <td>0.961850</td>\n",
       "      <td>0.961374</td>\n",
       "      <td>0.954271</td>\n",
       "      <td>0.964239</td>\n",
       "      <td>0.961121</td>\n",
       "      <td>0.003600</td>\n",
       "      <td>1</td>\n",
       "      <td>0.689618</td>\n",
       "      <td>0.697427</td>\n",
       "      <td>...</td>\n",
       "      <td>0.002703</td>\n",
       "      <td>7</td>\n",
       "      <td>2.224848</td>\n",
       "      <td>0.009384</td>\n",
       "      <td>0.153390</td>\n",
       "      <td>0.034430</td>\n",
       "      <td>{'n_epochs': 10, 'lr_all': 0.005, 'reg_all': 0.4}</td>\n",
       "      <td>10</td>\n",
       "      <td>0.005</td>\n",
       "      <td>0.4</td>\n",
       "    </tr>\n",
       "    <tr>\n",
       "      <th>7</th>\n",
       "      <td>0.973891</td>\n",
       "      <td>0.972779</td>\n",
       "      <td>0.971317</td>\n",
       "      <td>0.964318</td>\n",
       "      <td>0.974422</td>\n",
       "      <td>0.971345</td>\n",
       "      <td>0.003671</td>\n",
       "      <td>3</td>\n",
       "      <td>0.688998</td>\n",
       "      <td>0.698096</td>\n",
       "      <td>...</td>\n",
       "      <td>0.002942</td>\n",
       "      <td>8</td>\n",
       "      <td>2.216274</td>\n",
       "      <td>0.004155</td>\n",
       "      <td>0.167753</td>\n",
       "      <td>0.035598</td>\n",
       "      <td>{'n_epochs': 10, 'lr_all': 0.005, 'reg_all': 0.6}</td>\n",
       "      <td>10</td>\n",
       "      <td>0.005</td>\n",
       "      <td>0.6</td>\n",
       "    </tr>\n",
       "  </tbody>\n",
       "</table>\n",
       "<p>8 rows × 24 columns</p>\n",
       "</div>"
      ],
      "text/plain": [
       "   split0_test_rmse  split1_test_rmse  split2_test_rmse  split3_test_rmse  \\\n",
       "0          0.992955          0.993510          0.990746          0.984586   \n",
       "1          0.999282          1.000517          0.997457          0.991284   \n",
       "2          0.971983          0.970754          0.969922          0.963016   \n",
       "3          0.981136          0.980838          0.978914          0.972058   \n",
       "4          0.975948          0.974880          0.973863          0.967261   \n",
       "5          0.984172          0.984343          0.982248          0.975544   \n",
       "6          0.963872          0.961850          0.961374          0.954271   \n",
       "7          0.973891          0.972779          0.971317          0.964318   \n",
       "\n",
       "   split4_test_rmse  mean_test_rmse  std_test_rmse  rank_test_rmse  \\\n",
       "0          0.992969        0.990953       0.003322               7   \n",
       "1          1.000033        0.997715       0.003379               8   \n",
       "2          0.972885        0.969712       0.003498               2   \n",
       "3          0.982050        0.978999       0.003618               5   \n",
       "4          0.976417        0.973674       0.003326               4   \n",
       "5          0.985094        0.982280       0.003497               6   \n",
       "6          0.964239        0.961121       0.003600               1   \n",
       "7          0.974422        0.971345       0.003671               3   \n",
       "\n",
       "   split0_test_fcp  split1_test_fcp  ...  std_test_fcp  rank_test_fcp  \\\n",
       "0         0.678077         0.684572  ...      0.002528              1   \n",
       "1         0.680027         0.686586  ...      0.003045              2   \n",
       "2         0.686659         0.692536  ...      0.002110              5   \n",
       "3         0.686049         0.693653  ...      0.002822              6   \n",
       "4         0.684040         0.690164  ...      0.002899              3   \n",
       "5         0.684864         0.693260  ...      0.003057              4   \n",
       "6         0.689618         0.697427  ...      0.002703              7   \n",
       "7         0.688998         0.698096  ...      0.002942              8   \n",
       "\n",
       "   mean_fit_time  std_fit_time  mean_test_time  std_test_time  \\\n",
       "0       1.134566      0.002721        0.157379       0.035611   \n",
       "1       1.115019      0.004505        0.154786       0.035263   \n",
       "2       1.116019      0.003280        0.152788       0.034042   \n",
       "3       1.112027      0.002601        0.153390       0.034792   \n",
       "4       2.218069      0.010498        0.168350       0.033647   \n",
       "5       2.211487      0.002148        0.152593       0.035018   \n",
       "6       2.224848      0.009384        0.153390       0.034430   \n",
       "7       2.216274      0.004155        0.167753       0.035598   \n",
       "\n",
       "                                              params  param_n_epochs  \\\n",
       "0   {'n_epochs': 5, 'lr_all': 0.002, 'reg_all': 0.4}               5   \n",
       "1   {'n_epochs': 5, 'lr_all': 0.002, 'reg_all': 0.6}               5   \n",
       "2   {'n_epochs': 5, 'lr_all': 0.005, 'reg_all': 0.4}               5   \n",
       "3   {'n_epochs': 5, 'lr_all': 0.005, 'reg_all': 0.6}               5   \n",
       "4  {'n_epochs': 10, 'lr_all': 0.002, 'reg_all': 0.4}              10   \n",
       "5  {'n_epochs': 10, 'lr_all': 0.002, 'reg_all': 0.6}              10   \n",
       "6  {'n_epochs': 10, 'lr_all': 0.005, 'reg_all': 0.4}              10   \n",
       "7  {'n_epochs': 10, 'lr_all': 0.005, 'reg_all': 0.6}              10   \n",
       "\n",
       "   param_lr_all  param_reg_all  \n",
       "0         0.002            0.4  \n",
       "1         0.002            0.6  \n",
       "2         0.005            0.4  \n",
       "3         0.005            0.6  \n",
       "4         0.002            0.4  \n",
       "5         0.002            0.6  \n",
       "6         0.005            0.4  \n",
       "7         0.005            0.6  \n",
       "\n",
       "[8 rows x 24 columns]"
      ]
     },
     "execution_count": 46,
     "metadata": {},
     "output_type": "execute_result"
    }
   ],
   "source": [
    "import pandas as pd  \n",
    "\n",
    "results_df = pd.DataFrame.from_dict(grid_search.cv_results)\n",
    "results_df"
   ]
  },
  {
   "cell_type": "markdown",
   "metadata": {},
   "source": [
    "# 推荐电影"
   ]
  },
  {
   "cell_type": "code",
   "execution_count": 55,
   "metadata": {},
   "outputs": [
    {
     "name": "stdout",
     "output_type": "stream",
     "text": [
      "Estimating biases using als...\n",
      "Computing the pearson_baseline similarity matrix...\n",
      "Done computing similarity matrix.\n"
     ]
    },
    {
     "data": {
      "text/plain": [
       "<surprise.prediction_algorithms.knns.KNNBaseline at 0x17303d9ec18>"
      ]
     },
     "execution_count": 55,
     "metadata": {},
     "output_type": "execute_result"
    }
   ],
   "source": [
    "from __future__ import (absolute_import, division, print_function,\n",
    "                        unicode_literals)\n",
    "import os\n",
    "import io\n",
    "\n",
    "from surprise import KNNBaseline\n",
    "from surprise import Dataset\n",
    "\n",
    "\n",
    "def read_item_names():\n",
    "\n",
    "\n",
    "    file_name = ('./ml-100k/u.item')\n",
    "    rid_to_name = {}\n",
    "    name_to_rid = {}\n",
    "    with io.open(file_name, 'r', encoding='ISO-8859-1') as f:\n",
    "        for line in f:\n",
    "            line = line.split('|')\n",
    "            rid_to_name[line[0]] = line[1]\n",
    "            name_to_rid[line[1]] = line[0]\n",
    "\n",
    "    return rid_to_name, name_to_rid\n",
    "\n",
    "\n",
    "\n",
    "data = Dataset.load_builtin('ml-100k')\n",
    "trainset = data.build_full_trainset() #将数据转换为矩阵\n",
    "sim_options = {'name': 'pearson_baseline', 'user_based': False}\n",
    "algo = KNNBaseline(sim_options=sim_options)\n",
    "algo.fit(trainset)"
   ]
  },
  {
   "cell_type": "code",
   "execution_count": 6,
   "metadata": {},
   "outputs": [
    {
     "data": {
      "text/plain": [
       "'1053'"
      ]
     },
     "execution_count": 6,
     "metadata": {},
     "output_type": "execute_result"
    }
   ],
   "source": [
    "rid_to_name, name_to_rid = read_item_names()\n",
    "\n",
    "toy_story_raw_id = name_to_rid['Now and Then (1995)'] #找到在数据样本中对应的id\n",
    "toy_story_raw_id"
   ]
  },
  {
   "cell_type": "code",
   "execution_count": 7,
   "metadata": {},
   "outputs": [
    {
     "data": {
      "text/plain": [
       "961"
      ]
     },
     "execution_count": 7,
     "metadata": {},
     "output_type": "execute_result"
    }
   ],
   "source": [
    "toy_story_inner_id = algo.trainset.to_inner_iid(toy_story_raw_id) #找到在矩阵中的id\n",
    "toy_story_inner_id"
   ]
  },
  {
   "cell_type": "code",
   "execution_count": 56,
   "metadata": {},
   "outputs": [
    {
     "data": {
      "text/plain": [
       "[291, 82, 366, 528, 179, 101, 556, 310, 431, 543]"
      ]
     },
     "execution_count": 56,
     "metadata": {},
     "output_type": "execute_result"
    }
   ],
   "source": [
    "toy_story_neighbors = algo.get_neighbors(toy_story_inner_id, k=10) #找到最近的几个电影\n",
    "toy_story_neighbors"
   ]
  },
  {
   "cell_type": "code",
   "execution_count": 9,
   "metadata": {},
   "outputs": [
    {
     "name": "stdout",
     "output_type": "stream",
     "text": [
      "\n",
      "The 10 nearest neighbors of Toy Story are:\n",
      "While You Were Sleeping (1995)\n",
      "Batman (1989)\n",
      "Dave (1993)\n",
      "Mrs. Doubtfire (1993)\n",
      "Groundhog Day (1993)\n",
      "Raiders of the Lost Ark (1981)\n",
      "Maverick (1994)\n",
      "French Kiss (1995)\n",
      "Stand by Me (1986)\n",
      "Net, The (1995)\n"
     ]
    }
   ],
   "source": [
    "toy_story_neighbors = (algo.trainset.to_raw_iid(inner_id)\n",
    "                       for inner_id in toy_story_neighbors)\n",
    "toy_story_neighbors = (rid_to_name[rid]\n",
    "                       for rid in toy_story_neighbors)\n",
    "\n",
    "print()\n",
    "print('The 10 nearest neighbors of Toy Story are:')\n",
    "for movie in toy_story_neighbors:\n",
    "    print(movie)"
   ]
  },
  {
   "cell_type": "code",
   "execution_count": null,
   "metadata": {
    "collapsed": true
   },
   "outputs": [],
   "source": []
  }
 ],
 "metadata": {
  "anaconda-cloud": {},
  "kernelspec": {
   "display_name": "Python 3",
   "language": "python",
   "name": "python3"
  },
  "language_info": {
   "codemirror_mode": {
    "name": "ipython",
    "version": 3
   },
   "file_extension": ".py",
   "mimetype": "text/x-python",
   "name": "python",
   "nbconvert_exporter": "python",
   "pygments_lexer": "ipython3",
   "version": "3.6.8"
  }
 },
 "nbformat": 4,
 "nbformat_minor": 1
}
