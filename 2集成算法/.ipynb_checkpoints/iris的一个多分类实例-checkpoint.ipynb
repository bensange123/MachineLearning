{
 "cells": [
  {
   "cell_type": "code",
   "execution_count": 2,
   "metadata": {},
   "outputs": [
    {
     "name": "stdout",
     "output_type": "stream",
     "text": [
      "[2 2 2 0 0 2 2 1 2 1 1 2 2 1 2]\n",
      "[2 2 2 0 0 2 2 1 2 1 1 2 2 1 2]\n"
     ]
    }
   ],
   "source": [
    "from sklearn.datasets import load_iris\n",
    "from sklearn import tree\n",
    "from sklearn.model_selection import train_test_split\n",
    "import graphviz\n",
    "import os\n",
    "os.environ[\"PATH\"] += os.pathsep + 'E:/Graphviz/bin/'\n",
    "\n",
    "def multi_class_tree():\n",
    "    iris = load_iris()\n",
    "    x = iris['data']\n",
    "    y = iris['target']\n",
    "    dtc = tree.DecisionTreeClassifier(criterion=\"entropy\")\n",
    "    x_train, x_test, y_train, y_test = train_test_split(x, y, test_size=0.1)\n",
    "    clf = dtc.fit(x_train, y_train)\n",
    "    print(clf.predict(x_test))\n",
    "    print(y_test)\n",
    "    dot_data = tree.export_graphviz(clf, out_file=None)\n",
    "    graph = graphviz.Source(dot_data)\n",
    "    graph.render(\"iris\", view=True)\n",
    "\n",
    "multi_class_tree()"
   ]
  }
 ],
 "metadata": {
  "kernelspec": {
   "display_name": "Python 3",
   "language": "python",
   "name": "python3"
  },
  "language_info": {
   "codemirror_mode": {
    "name": "ipython",
    "version": 3
   },
   "file_extension": ".py",
   "mimetype": "text/x-python",
   "name": "python",
   "nbconvert_exporter": "python",
   "pygments_lexer": "ipython3",
   "version": "3.6.8"
  }
 },
 "nbformat": 4,
 "nbformat_minor": 2
}
