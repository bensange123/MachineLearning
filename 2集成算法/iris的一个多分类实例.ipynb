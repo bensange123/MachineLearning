{
 "cells": [
  {
   "cell_type": "code",
   "execution_count": 2,
   "metadata": {},
   "outputs": [
    {
     "name": "stdout",
     "output_type": "stream",
     "text": [
      "[2 2 2 0 0 2 2 1 2 1 1 2 2 1 2]\n",
      "[2 2 2 0 0 2 2 1 2 1 1 2 2 1 2]\n"
     ]
    }
   ],
   "source": [
    "from sklearn.datasets import load_iris\n",
    "from sklearn import tree\n",
    "from sklearn.model_selection import train_test_split\n",
    "import graphviz\n",
    "import os\n",
    "os.environ[\"PATH\"] += os.pathsep + 'E:/Graphviz/bin/'\n",
    "\n",
    "def multi_class_tree():\n",
    "    iris = load_iris()\n",
    "    x = iris['data']\n",
    "    y = iris['target']\n",
    "    dtc = tree.DecisionTreeClassifier(criterion=\"entropy\")\n",
    "    x_train, x_test, y_train, y_test = train_test_split(x, y, test_size=0.1)\n",
    "    clf = dtc.fit(x_train, y_train)\n",
    "    print(clf.predict(x_test))\n",
    "    print(y_test)\n",
    "    dot_data = tree.export_graphviz(clf, out_file=None)\n",
    "    graph = graphviz.Source(dot_data)\n",
    "    graph.render(\"iris\", view=True)\n",
    "\n",
    "multi_class_tree()"
   ]
  },
  {
   "cell_type": "markdown",
   "metadata": {},
   "source": [
    "## sklearn计算ROC曲线下面积AUC\n",
    "\n",
    "https://www.jianshu.com/p/90106243d231"
   ]
  },
  {
   "cell_type": "code",
   "execution_count": 15,
   "metadata": {},
   "outputs": [
    {
     "name": "stdout",
     "output_type": "stream",
     "text": [
      "0.857142857143\n",
      "(10,)\n",
      "[1 1 1 2 2 1 2 2 2 2]\n",
      "0.958333333333\n"
     ]
    }
   ],
   "source": [
    "from sklearn import datasets,svm,metrics,model_selection,preprocessing\n",
    "iris=datasets.load_iris()\n",
    "x=iris.data[iris.target!=0,:2]\n",
    "x=preprocessing.StandardScaler().fit_transform(x)\n",
    "y=iris.target[iris.target!=0]\n",
    "x_train,x_test,y_train,y_test=model_selection.train_test_split(x,y,\n",
    "test_size=0.1,random_state=25)\n",
    "clf=svm.SVC(kernel='linear')\n",
    "clf.fit(x_train,y_train)\n",
    "print(metrics.f1_score(y_test,clf.predict(x_test)))\n",
    "print(clf.decision_function(x_test).shape)\n",
    "fpr,tpr,thresholds=metrics.roc_curve(y_test,clf.decision_function(x_test),\n",
    "pos_label=2)\n",
    "print(y_test)\n",
    "print(metrics.auc(fpr,tpr))"
   ]
  }
 ],
 "metadata": {
  "kernelspec": {
   "display_name": "Python 3",
   "language": "python",
   "name": "python3"
  },
  "language_info": {
   "codemirror_mode": {
    "name": "ipython",
    "version": 3
   },
   "file_extension": ".py",
   "mimetype": "text/x-python",
   "name": "python",
   "nbconvert_exporter": "python",
   "pygments_lexer": "ipython3",
   "version": "3.6.8"
  }
 },
 "nbformat": 4,
 "nbformat_minor": 2
}
