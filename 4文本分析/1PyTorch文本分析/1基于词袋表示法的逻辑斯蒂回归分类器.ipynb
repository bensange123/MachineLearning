{
 "cells": [
  {
   "cell_type": "code",
   "execution_count": 1,
   "metadata": {},
   "outputs": [
    {
     "data": {
      "text/plain": [
       "<torch._C.Generator at 0x19328248030>"
      ]
     },
     "execution_count": 1,
     "metadata": {},
     "output_type": "execute_result"
    }
   ],
   "source": [
    "%matplotlib inline\n",
    "import torch\n",
    "import torch.autograd as autograd\n",
    "import torch.nn as nn\n",
    "import torch.nn.functional as F\n",
    "import torch.optim as optim\n",
    "import matplotlib.pyplot as plt\n",
    "\n",
    "torch.manual_seed(1)"
   ]
  },
  {
   "cell_type": "code",
   "execution_count": 2,
   "metadata": {},
   "outputs": [
    {
     "name": "stdout",
     "output_type": "stream",
     "text": [
      "tensor([ 0.6614,  0.2669,  0.0617,  0.6213, -0.4519])\n",
      "tensor([0.2847, 0.1919, 0.1563, 0.2735, 0.0935])\n",
      "tensor(1.)\n",
      "tensor([-1.2563, -1.6507, -1.8559, -1.2963, -2.3695])\n"
     ]
    }
   ],
   "source": [
    "# Softmax也在 torch.nn.functional\n",
    "data = autograd.Variable(torch.randn(5))\n",
    "print(data)\n",
    "print(F.softmax(data, dim=0))\n",
    "print(F.softmax(data, dim=0).sum()) #总和为一因为他是概率分布!\n",
    "print(F.log_softmax(data, dim=0)) # 他也是 log_softmax"
   ]
  },
  {
   "cell_type": "code",
   "execution_count": 3,
   "metadata": {},
   "outputs": [
    {
     "name": "stdout",
     "output_type": "stream",
     "text": [
      "{'it': 7, 'que': 11, 'a': 18, 'on': 25, 'lost': 21, 'Give': 6, 'not': 17, 'una': 13, 'creo': 10, 'get': 20, 'No': 9, 'gusta': 1, 'la': 4, 'idea': 15, 'sea': 12, 'good': 19, 'si': 24, 'Yo': 23, 'at': 22, 'is': 16, 'me': 0, 'to': 8, 'buena': 14, 'comer': 2, 'en': 3, 'cafeteria': 5}\n"
     ]
    }
   ],
   "source": [
    "data = [(\"me gusta comer en la cafeteria\".split(), \"SPANISH\"),\n",
    "(\"Give it to me\".split(), \"ENGLISH\"),\n",
    "(\"No creo que sea una buena idea\".split(), \"SPANISH\"),\n",
    "(\"No it is not a good idea to get lost at sea\".split(), \"ENGLISH\")]\n",
    "#print(data)\n",
    "test_data = [(\"Yo creo que si\".split(), \"SPANISH\"),\n",
    "(\"it is lost on me\".split(), \"ENGLISH\")]\n",
    "# word_to_ix 将在词汇中的单词映射为一个特征数,\n",
    "# 这个特征数就是单词在词袋中的索引\n",
    "word_to_ix = {}\n",
    "for sent, _ in data + test_data:\n",
    "    for word in sent:\n",
    "        if word not in word_to_ix:\n",
    "            word_to_ix[word] = len(word_to_ix)\n",
    "print(word_to_ix)\n",
    "VOCAB_SIZE = len(word_to_ix)\n",
    "NUM_LABELS = 2"
   ]
  },
  {
   "cell_type": "code",
   "execution_count": 4,
   "metadata": {},
   "outputs": [
    {
     "name": "stdout",
     "output_type": "stream",
     "text": [
      "data + test_data:\n",
      " [(['me', 'gusta', 'comer', 'en', 'la', 'cafeteria'], 'SPANISH'), (['Give', 'it', 'to', 'me'], 'ENGLISH'), (['No', 'creo', 'que', 'sea', 'una', 'buena', 'idea'], 'SPANISH'), (['No', 'it', 'is', 'not', 'a', 'good', 'idea', 'to', 'get', 'lost', 'at', 'sea'], 'ENGLISH'), (['Yo', 'creo', 'que', 'si'], 'SPANISH'), (['it', 'is', 'lost', 'on', 'me'], 'ENGLISH')]\n",
      "------------------------------------------------------------------------------------\n",
      "['me', 'gusta', 'comer', 'en', 'la', 'cafeteria'] SPANISH\n",
      "['Give', 'it', 'to', 'me'] ENGLISH\n",
      "['No', 'creo', 'que', 'sea', 'una', 'buena', 'idea'] SPANISH\n",
      "['No', 'it', 'is', 'not', 'a', 'good', 'idea', 'to', 'get', 'lost', 'at', 'sea'] ENGLISH\n",
      "['Yo', 'creo', 'que', 'si'] SPANISH\n",
      "['it', 'is', 'lost', 'on', 'me'] ENGLISH\n",
      "26\n"
     ]
    }
   ],
   "source": [
    "print('data + test_data:\\n',data + test_data)\n",
    "print('------------------------------------------------------------------------------------')\n",
    "for sent, kind in data + test_data:\n",
    "    print(sent,kind)\n",
    "print(VOCAB_SIZE)"
   ]
  },
  {
   "cell_type": "code",
   "execution_count": 5,
   "metadata": {},
   "outputs": [
    {
     "name": "stdout",
     "output_type": "stream",
     "text": [
      "torch.Size([2, 26]) Parameter containing:\n",
      "tensor([[ 0.0716, -0.0764, -0.0143, -0.0177,  0.0284, -0.0008,  0.1714,  0.0610,\n",
      "         -0.0730, -0.1184, -0.0329, -0.0846, -0.0628,  0.0094,  0.1169,  0.1066,\n",
      "         -0.1917,  0.1216,  0.0548,  0.1860,  0.1294, -0.1787, -0.1865, -0.0946,\n",
      "          0.1722, -0.0327],\n",
      "        [ 0.0839, -0.0911,  0.1924, -0.0830,  0.1471,  0.0023, -0.1033,  0.1008,\n",
      "         -0.1041,  0.0577, -0.0566, -0.0215, -0.1885, -0.0935,  0.1064, -0.0477,\n",
      "          0.1953,  0.1572, -0.0092, -0.1309,  0.1194,  0.0609, -0.1268,  0.1274,\n",
      "          0.1191,  0.1739]], requires_grad=True)\n",
      "torch.Size([2]) Parameter containing:\n",
      "tensor([-0.1099, -0.0323], requires_grad=True)\n",
      "------------------------------------------------------------------------------------\n",
      "tensor([[-0.8766, -0.5382]], grad_fn=<LogSoftmaxBackward>)\n"
     ]
    }
   ],
   "source": [
    "class BoWClassifier(nn.Module): # 从 nn.Module继承!\n",
    "\n",
    "    def __init__(self, num_labels, vocab_size):\n",
    "        # 在 nn.Module中调用初始化函数. 不要被这个困惑,\n",
    "        # 这个做法经常在 nn.Module见到\n",
    "        super(BoWClassifier, self).__init__()\n",
    "\n",
    "        # 定义你需要的变量. 在本例中, 我们需要affine mapping的系数 A 和 b.\n",
    "        # Torch 定义了可提供 affine map的nn.Linear().\n",
    "        # 确定你理解了为什么输入矩阵的维度是 vocab_size而输出的是num_labels!\n",
    "        self.linear = nn.Linear(vocab_size, num_labels)\n",
    "\n",
    "        # 注意! non-linearity log softmax 没有系数!\n",
    "        # 所以我们在这并不需要担心\n",
    "\n",
    "    def forward(self, bow_vec):\n",
    "        # 将输入引入到线性神经元层中, 随后引入到log_softmax.\n",
    "        # 在torch.nn.functional中有很多非线性和其他的函数\n",
    "        return F.log_softmax(self.linear(bow_vec), dim=1)\n",
    "\n",
    "def make_bow_vector(sentence, word_to_ix):\n",
    "    vec = torch.zeros(len(word_to_ix))\n",
    "    for word in sentence:\n",
    "        vec[word_to_ix[word]] += 1\n",
    "    return vec.view(1, -1)\n",
    "\n",
    "def make_target(label, label_to_ix):\n",
    "    return torch.LongTensor([label_to_ix[label]])\n",
    "\n",
    "model = BoWClassifier(NUM_LABELS, VOCAB_SIZE)\n",
    "# model = BoWClassifier(2, 26)\n",
    "# model知道它的系数.第一个输出的是A, 第二个是b.\n",
    "# 当你在模块__init__函数中指定一个神经元去分类变量, self.linear = nn.Linear(...)被执行\n",
    "# 随后从Pytorch devs通过Python magic, 你的模块(在本例中, BoWClassifier) 将会存储 nn.Linear的系数\n",
    "for param in model.parameters():\n",
    "    print(param.size(),param)\n",
    "print('------------------------------------------------------------------------------------')\n",
    "# 要运行该模型, 请传入一个BoW vector, 但要将其封装在一个autograd.Variable中.\n",
    "sample = data[0]\n",
    "bow_vector = make_bow_vector(sample[0], word_to_ix)\n",
    "log_probs = model(autograd.Variable(bow_vector))\n",
    "print(log_probs)"
   ]
  },
  {
   "cell_type": "code",
   "execution_count": 6,
   "metadata": {
    "collapsed": true
   },
   "outputs": [],
   "source": [
    "label_to_ix = {\"SPANISH\": 0, \"ENGLISH\": 1}"
   ]
  },
  {
   "cell_type": "code",
   "execution_count": 7,
   "metadata": {},
   "outputs": [
    {
     "name": "stdout",
     "output_type": "stream",
     "text": [
      "tensor([[-0.8462, -0.5604]], grad_fn=<LogSoftmaxBackward>)\n",
      "tensor([[-1.2863, -0.3234]], grad_fn=<LogSoftmaxBackward>)\n",
      "Parameter containing:\n",
      "tensor([[ 0.0716, -0.0764, -0.0143, -0.0177,  0.0284, -0.0008,  0.1714,  0.0610,\n",
      "         -0.0730, -0.1184, -0.0329, -0.0846, -0.0628,  0.0094,  0.1169,  0.1066,\n",
      "         -0.1917,  0.1216,  0.0548,  0.1860,  0.1294, -0.1787, -0.1865, -0.0946,\n",
      "          0.1722, -0.0327],\n",
      "        [ 0.0839, -0.0911,  0.1924, -0.0830,  0.1471,  0.0023, -0.1033,  0.1008,\n",
      "         -0.1041,  0.0577, -0.0566, -0.0215, -0.1885, -0.0935,  0.1064, -0.0477,\n",
      "          0.1953,  0.1572, -0.0092, -0.1309,  0.1194,  0.0609, -0.1268,  0.1274,\n",
      "          0.1191,  0.1739]], requires_grad=True) 10\n",
      "tensor([-0.0329, -0.0566], grad_fn=<SelectBackward>)\n"
     ]
    }
   ],
   "source": [
    "# 在我们训练前运行训练集, 去看看前后的变化\n",
    "for instance, label in test_data:\n",
    "    bow_vec = autograd.Variable(make_bow_vector(instance, word_to_ix))\n",
    "    log_probs = model(bow_vec)\n",
    "    print(log_probs)\n",
    "# 在矩阵中输出\"creo\"列\n",
    "print(next(model.parameters()), word_to_ix[\"creo\"])\n",
    "print(next(model.parameters())[:, word_to_ix[\"creo\"]])"
   ]
  },
  {
   "cell_type": "code",
   "execution_count": 8,
   "metadata": {},
   "outputs": [
    {
     "name": "stdout",
     "output_type": "stream",
     "text": [
      "0.762496292591095\n",
      "0.4778616428375244\n",
      "0.33652955293655396\n",
      "0.2556207776069641\n",
      "0.2045934945344925\n",
      "0.16989722847938538\n",
      "0.14493465423583984\n",
      "0.1261860579252243\n",
      "0.1116245687007904\n",
      "0.10000835359096527\n",
      "0.09053744375705719\n",
      "0.08267492055892944\n",
      "0.07604753971099854\n",
      "0.07038846611976624\n",
      "0.06550195813179016\n",
      "0.061241328716278076\n",
      "0.05749458074569702\n",
      "0.05417466163635254\n",
      "0.051213234663009644\n",
      "0.04855555295944214\n",
      "0.04615744948387146\n",
      "0.04398295283317566\n",
      "0.042002320289611816\n",
      "0.040190935134887695\n",
      "0.03852808475494385\n",
      "0.03699636459350586\n",
      "0.035580843687057495\n",
      "0.03426888585090637\n",
      "0.033049553632736206\n",
      "0.03191351890563965\n",
      "0.030852466821670532\n",
      "0.029859274625778198\n",
      "0.028927624225616455\n",
      "0.028052061796188354\n",
      "0.027227580547332764\n",
      "0.026449978351593018\n",
      "0.02571532130241394\n",
      "0.025020241737365723\n",
      "0.024361401796340942\n",
      "0.023736268281936646\n",
      "0.023142307996749878\n",
      "0.02257716655731201\n",
      "0.02203887701034546\n",
      "0.021525532007217407\n",
      "0.021035432815551758\n",
      "0.020567119121551514\n",
      "0.020119071006774902\n",
      "0.01969003677368164\n",
      "0.019278883934020996\n",
      "0.018884509801864624\n",
      "0.01850581169128418\n",
      "0.018141955137252808\n",
      "0.017792105674743652\n",
      "0.017455488443374634\n",
      "0.017131298780441284\n",
      "0.016818910837173462\n",
      "0.016517579555511475\n",
      "0.01622694730758667\n",
      "0.015946269035339355\n",
      "0.015675097703933716\n",
      "0.015413016080856323\n",
      "0.0151594877243042\n",
      "0.014914065599441528\n",
      "0.014676541090011597\n",
      "0.014446347951889038\n",
      "0.01422339677810669\n",
      "0.014007151126861572\n",
      "0.013797342777252197\n",
      "0.013593673706054688\n",
      "0.013395905494689941\n",
      "0.013203859329223633\n",
      "0.013017147779464722\n",
      "0.012835651636123657\n",
      "0.012659192085266113\n",
      "0.012487471103668213\n",
      "0.012320339679718018\n",
      "0.012157678604125977\n",
      "0.011999130249023438\n",
      "0.0118446946144104\n",
      "0.011694252490997314\n",
      "0.011547446250915527\n",
      "0.011404454708099365\n",
      "0.01126474142074585\n",
      "0.011128485202789307\n",
      "0.01099550724029541\n",
      "0.010865628719329834\n",
      "0.010738730430603027\n",
      "0.010614871978759766\n",
      "0.010493755340576172\n",
      "0.010375440120697021\n",
      "0.010259568691253662\n",
      "0.010146498680114746\n",
      "0.01003575325012207\n",
      "0.009927451610565186\n",
      "0.009821295738220215\n",
      "0.009717583656311035\n",
      "0.009615957736968994\n",
      "0.009516417980194092\n",
      "0.009418904781341553\n",
      "0.009323477745056152\n"
     ]
    },
    {
     "data": {
      "image/png": "[encoded data removed]",
      "text/plain": [
       "<Figure size 432x288 with 1 Axes>"
      ]
     },
     "metadata": {
      "needs_background": "light"
     },
     "output_type": "display_data"
    }
   ],
   "source": [
    "loss_function = nn.NLLLoss()\n",
    "optimizer = optim.SGD(model.parameters(), lr=0.1)\n",
    "\n",
    "# 通常你想要多次浏览训练集.100比起实际数据集是很多的, 但实际数据集会多于2个实例.\n",
    "# 通常, 在5到30之间是合理的.\n",
    "LOSS = []\n",
    "for epoch in range(100):\n",
    "    Loss = 0\n",
    "    for instance, label in data:\n",
    "        # 步骤 1\\. 牢记 Pytorch 会积累梯度.\n",
    "        # 我们需要在每一例前清理掉\n",
    "        model.zero_grad()\n",
    "\n",
    "        # 步骤 2\\. 制作我们的 BOW 向量 并且我们必须将目标封装在变量中并且为整数 .\n",
    "        # 例如, 如果目标是\"西班牙语\", 则封装为整数0.对于损失函数而言, 概率分布的\n",
    "        # 第0列对应的是\"西班牙语\"的损失函数.\n",
    "        #\n",
    "        bow_vec = autograd.Variable(make_bow_vector(instance, word_to_ix))\n",
    "        target = autograd.Variable(make_target(label, label_to_ix))\n",
    "\n",
    "        # 步骤 3\\. Run our forward pass.\n",
    "        log_probs = model(bow_vec)\n",
    "\n",
    "        # 步骤 4\\. 计算损失, 梯度, 通过调用optimizer.step()来更新系数\n",
    "        #\n",
    "        loss = loss_function(log_probs, target)\n",
    "        Loss += loss\n",
    "        loss.backward()\n",
    "        optimizer.step()\n",
    "    Loss = Loss/4\n",
    "    LOSS.append(Loss)\n",
    "    print(Loss.item())\n",
    "plt.plot(LOSS)\n",
    "plt.show()"
   ]
  }
 ],
 "metadata": {
  "kernelspec": {
   "display_name": "PyTorch",
   "language": "python",
   "name": "pytorch"
  },
  "language_info": {
   "codemirror_mode": {
    "name": "ipython",
    "version": 3
   },
   "file_extension": ".py",
   "mimetype": "text/x-python",
   "name": "python",
   "nbconvert_exporter": "python",
   "pygments_lexer": "ipython3",
   "version": "3.5.4"
  }
 },
 "nbformat": 4,
 "nbformat_minor": 2
}
