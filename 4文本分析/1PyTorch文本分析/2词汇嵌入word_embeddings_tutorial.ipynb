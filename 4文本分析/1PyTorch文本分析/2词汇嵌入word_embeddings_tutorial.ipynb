{
 "cells": [
  {
   "cell_type": "code",
   "execution_count": 2,
   "metadata": {},
   "outputs": [],
   "source": [
    "%matplotlib inline"
   ]
  },
  {
   "cell_type": "markdown",
   "metadata": {},
   "source": [
    "\n",
    "Word Embeddings: Encoding Lexical Semantics\n",
    "===========================================\n"
   ]
  },
  {
   "cell_type": "code",
   "execution_count": 34,
   "metadata": {},
   "outputs": [
    {
     "data": {
      "text/plain": [
       "<torch._C.Generator at 0x7f283a0ecef0>"
      ]
     },
     "execution_count": 34,
     "metadata": {},
     "output_type": "execute_result"
    }
   ],
   "source": [
    "# Author: Robert Guthrie\n",
    "\n",
    "import torch\n",
    "import torch.autograd as autograd\n",
    "import torch.nn as nn\n",
    "import torch.nn.functional as F\n",
    "import torch.optim as optim\n",
    "import numpy as np\n",
    "import matplotlib.pyplot as plt\n",
    "\n",
    "torch.manual_seed(1)"
   ]
  },
  {
   "cell_type": "code",
   "execution_count": 35,
   "metadata": {},
   "outputs": [
    {
     "name": "stdout",
     "output_type": "stream",
     "text": [
      "0 tensor([0]) tensor([[ 0.6614,  0.2669,  0.0617,  0.6213, -0.4519]], grad_fn=<EmbeddingBackward>)\n"
     ]
    }
   ],
   "source": [
    "word_to_ix = {\"hello\": 0, \"world\": 1}\n",
    "embeds = nn.Embedding(2, 5)  # 2 words in vocab, 5 dimensional embeddings\n",
    "lookup_tensor = torch.tensor([word_to_ix[\"hello\"]], dtype=torch.long)\n",
    "hello_embed = embeds(lookup_tensor)\n",
    "print(word_to_ix[\"hello\"],lookup_tensor,hello_embed)"
   ]
  },
  {
   "cell_type": "markdown",
   "metadata": {},
   "source": [
    "# 例子: N-Gram 语言模型\n",
    "An Example: N-Gram Language Modeling\n",
    "~~~~~~~~~~~~~~~~~~~~~~~~~~~~~~~~~~~~\n",
    "\n",
    "Recall that in an n-gram language model, given a sequence of words\n",
    "$w$, we want to compute\n",
    "\n",
    "\\begin{align}P(w_i | w_{i-1}, w_{i-2}, \\dots, w_{i-n+1} )\\end{align}\n",
    "\n",
    "Where $w_i$ is the ith word of the sequence.\n",
    "\n",
    "In this example, we will compute the loss function on some training\n",
    "examples and update the parameters with backpropagation.\n"
   ]
  },
  {
   "cell_type": "code",
   "execution_count": 36,
   "metadata": {},
   "outputs": [
    {
     "name": "stdout",
     "output_type": "stream",
     "text": [
      "[(['When', 'forty', 'winters'], 'shall'), (['forty', 'winters', 'shall'], 'besiege'), (['winters', 'shall', 'besiege'], 'thy')]\n"
     ]
    }
   ],
   "source": [
    "CONTEXT_SIZE = 3\n",
    "EMBEDDING_DIM = 40\n",
    "# 我们将使用 Shakespeare Sonnet 2\n",
    "test_sentence = \"\"\"When forty winters shall besiege thy brow,And dig deep trenches in thy beauty's field,\n",
    "Thy youth's proud livery so gazed on now,Will be a totter'd weed of small worth held:Then being asked, where\n",
    "all thy beauty lies, Where all the treasure of thy lusty days; To say, within thine own deep sunken eyes,\n",
    "Were an all-eating shame, and thriftless praise. How much more praise deserv'd thy beauty's use,If thou couldst\n",
    "answer 'This fair child of mine Shall sum my count, and make my old excuse,'Proving his beauty by succession thine!\n",
    "This were to be new made when thou art old, And see thy blood warm when thou feel'st it cold. \n",
    "The Continuous Bag-of-Words model (CBOW) is frequently\n",
    "used in NLP deep learning. It is a model that tries to\n",
    "predict words given the context of a few words before \n",
    "and a few words after the target word. This is distinct \n",
    "from language modeling, since CBOW is not sequential and \n",
    "does not have to be probabilistic. Typcially, CBOW is used\n",
    "to quickly train word embeddings, and these embeddings are\n",
    "used to initialize the embeddings of some more complicated\n",
    "model. Usually, this is referred to as pretraining embeddings.\n",
    "It almost always helps performance a couple of percent. We are about to \n",
    "study the idea of a computational process.\n",
    "Computational processes are abstract beings that inhabit computers.\n",
    "As they evolve, processes manipulate other abstract things called data.\n",
    "The evolution of a process is directed by a pattern of rules\n",
    "called a program. People create programs to direct processes. In effect,\n",
    "we conjure the spirits of the computer with our spells.To learn how to use \n",
    "PyTorch, begin with our Getting Started Tutorials. The 60-minute blitz is the \n",
    "most common starting point, and provides a broad view into how to use PyTorch \n",
    "from the basics all the way into constructing deep neural networks.Hello, everyone!\n",
    "My name is and my English name is . I’m 15 years old. I’m a student in a very beautiful\n",
    "school called Liangbing Middle School and I am in Class 1 Grade 7. My hometown Liangbing\n",
    "is also a beautiful town. I’m very happy and I like to make friends with others. \n",
    "I also like singing but traveling is my favorite, I have been to many interesting\n",
    "places in China but I haven’t been to other countries. What a pity! At school, \n",
    "I study Chinese,math, English, history, politics and so on. I like all of them.\n",
    "I often help my teacher take care of my class and I think I am a good helper. \n",
    "I live with my parents and we go home on time every day.When I am at home, I often\n",
    "help my mother do some housework and my mother said I am a good helper, too. My mother\n",
    "is a barber.She cuts hair very well.She is kind.Many people like her. she often teaches\n",
    "me the way of learning well, if you want to learn English well, here is some of my advice.\n",
    "At first , you must read many articles and know many words, if you meet up with some new\n",
    "words, you can look them up in the dictionary, you should know their meanings, how to \n",
    "read them and spell them. If you keep working hard, you will be successful. Then, you\n",
    "ought to speak English as much as possible. Remember an old saying, Nothing is impossible\n",
    "in the world if you put your heart into it. That’s all, thank you. Hello, Everybody!\n",
    "I am very glad to stand here to give you my introduction. I am from Liangbing Middle School.\n",
    "I am studying in Class 1,Grade 7. I love my hometown Liangbing because it’s a very beautiful\n",
    "town. I have many hobbies, such as reading books, listening to music, surfing the Internet\n",
    "and traveling. But listening to music is my favorite. I like pop music best. My idol are \n",
    "Jay. I am a lively girl. I like making friends and chatting with them. I can play the \n",
    "Chinese Kungfu. I passed all ten levels when I was in Grade 5.However, because of the\n",
    "busy study, I don’t have any free time to practise it. What a pity! I am good at Math\n",
    "and English and I like English better. In my opinion, it’s very easy and fun to learn\n",
    "and use English and this contest is a great chance for me to learn English from others.\n",
    "My saying is god help those who help themselves and I will never give up during my course\n",
    "of learning. Now, after listening to my introduction, do you know me well?\"\"\".split()\n",
    "# 我们应该对输入进行标记,但是我们将忽略它\n",
    "# 建造一系列元组.  每个元组 ([ word_i-2, word_i-1 ], 都是目标单词)\n",
    "# trigrams = [([test_sentence[i], test_sentence[i + 1]], test_sentence[i + CONTEXT_SIZE])\n",
    "#             for i in range(len(test_sentence) - CONTEXT_SIZE)]\n",
    "\n",
    "# 通用的上下文个数\n",
    "trigrams = [([test_sentence[i + i0] for i0 in range(CONTEXT_SIZE)], test_sentence[i + CONTEXT_SIZE])\n",
    "            for i in range(len(test_sentence) - CONTEXT_SIZE)]\n",
    "# 输出前 3, 为了让你看到他的各式\n",
    "print(trigrams[:3])\n",
    "vocab = set(test_sentence)#创建一个无序不重复元素集,删除重复数据\n",
    "word_to_ix = {word: i for i, word in enumerate(vocab)}#建立单词索引\n",
    "#print(word_to_ix)"
   ]
  },
  {
   "cell_type": "code",
   "execution_count": 37,
   "metadata": {},
   "outputs": [
    {
     "name": "stdout",
     "output_type": "stream",
     "text": [
      "NGramLanguageModeler(\n",
      "  (embeddings): Embedding(411, 40)\n",
      "  (linear1): Linear(in_features=120, out_features=128, bias=True)\n",
      "  (linear2): Linear(in_features=128, out_features=411, bias=True)\n",
      ")\n"
     ]
    }
   ],
   "source": [
    "class NGramLanguageModeler(nn.Module):\n",
    "    def __init__(self, vocab_size, embedding_dim, context_size):\n",
    "        '''(vocab_size:97 单词的个数, embedding_dim:10 定义单词的属性维度, context_size:2 上下文语境单词的个数)'''\n",
    "        super(NGramLanguageModeler, self).__init__()\n",
    "        self.embeddings = nn.Embedding(vocab_size, embedding_dim)\n",
    "        self.linear1 = nn.Linear(context_size * embedding_dim, 128)\n",
    "        self.linear2 = nn.Linear(128, vocab_size)\n",
    "    def forward(self, inputs):\n",
    "        embeds = self.embeddings(inputs).view((1, -1))\n",
    "        out = F.relu(self.linear1(embeds))\n",
    "        out = self.linear2(out)\n",
    "        log_probs = F.log_softmax(out, dim=1)\n",
    "        return log_probs\n",
    "model = NGramLanguageModeler(len(vocab), EMBEDDING_DIM, CONTEXT_SIZE)\n",
    "print(model)"
   ]
  },
  {
   "cell_type": "code",
   "execution_count": 38,
   "metadata": {
    "collapsed": true
   },
   "outputs": [],
   "source": [
    "losses = []\n",
    "loss_function = nn.NLLLoss()\n",
    "optimizer = optim.SGD(model.parameters(), lr=0.001)\n",
    "\n",
    "for epoch in range(200):\n",
    "    total_loss = torch.Tensor([0])\n",
    "    for context, target in trigrams:\n",
    "\n",
    "        # 步骤 1\\. 准备好进入模型的数据 (例如将单词转换成整数索引,并将其封装在变量中)\n",
    "        context_idxs = [word_to_ix[w] for w in context]# 上下文单词的索引\n",
    "        context_var = autograd.Variable(torch.LongTensor(context_idxs))#封装\n",
    "\n",
    "        # 步骤 2\\. 回调 *积累* 梯度. 在进入一个实例前,需要将之前的实力梯度置零\n",
    "        model.zero_grad()\n",
    "\n",
    "        # 步骤 3\\. 运行反向传播,得到单词的概率分布\n",
    "        log_probs = model(context_var)\n",
    "\n",
    "        # 步骤 4\\. 计算损失函数. (再次注意, Torch需要将目标单词封装在变量中)\n",
    "        loss = loss_function(log_probs, autograd.Variable(\n",
    "            torch.LongTensor([word_to_ix[target]])))\n",
    "\n",
    "        # 步骤 5\\. 反向传播并更新梯度\n",
    "        loss.backward()\n",
    "        optimizer.step()\n",
    "\n",
    "        total_loss += loss.data\n",
    "    losses.append(total_loss.numpy()[0])"
   ]
  },
  {
   "cell_type": "code",
   "execution_count": 39,
   "metadata": {},
   "outputs": [
    {
     "data": {
      "image/png": "[encoded data removed]",
      "text/plain": [
       "<matplotlib.figure.Figure at 0x7f2829c2a0f0>"
      ]
     },
     "metadata": {},
     "output_type": "display_data"
    },
    {
     "name": "stdout",
     "output_type": "stream",
     "text": [
      "46.3028\n"
     ]
    }
   ],
   "source": [
    "plt.plot(losses)\n",
    "plt.show()\n",
    "print(losses[-1])  # 在训练集中每次迭代损失都会减小!"
   ]
  },
  {
   "cell_type": "code",
   "execution_count": 44,
   "metadata": {},
   "outputs": [
    {
     "name": "stdout",
     "output_type": "stream",
     "text": [
      "203\n",
      "When forty winters shall besiege thy brow,And dig deep trenches in thy beauty's field, Thy youth's proud livery so gazed on now,Will be a totter'd weed of small worth held:Then being asked, where all thy beauty lies, Where all the treasure of thy lusty days; To say, within thine own deep sunken eyes, Were an all-eating shame, and thriftless praise. How much more praise deserv'd thy beauty's use,If thou couldst answer 'This fair child of mine Shall sum my count, and make my old excuse,'Proving his beauty by succession thine! This were to be new made when thou art old, And see thy blood warm when thou feel'st it cold. The Continuous Bag-of-Words model (CBOW) is frequently used in NLP deep learning. It is a model that tries to predict words given the context of a few words after the target word. This is distinct from language modeling, since CBOW is not sequential and does not have to be probabilistic. Typcially, CBOW is used to quickly train word embeddings, and these embeddings are used to initialize the embeddings of some more complicated model. Usually, this is referred to as pretraining embeddings. It almost always helps performance a couple of percent. We are about\n"
     ]
    }
   ],
   "source": [
    "ix_to_word = {ix:w for w,ix in word_to_ix.items()}\n",
    "def prediction(context_test):\n",
    "    context_idxs = [word_to_ix[w] for w in context_test]# 上下文单词的索引\n",
    "    context_test = autograd.Variable(torch.LongTensor(context_idxs))#封装\n",
    "    log_probs = model(context_test)\n",
    "    #print(log_probs)\n",
    "    log_data = log_probs.data.numpy()[0]\n",
    "    Idx = np.where(log_data == np.max(log_data))[0][0]\n",
    "    #print(Idx,np.max(log_data))\n",
    "    target_word = ix_to_word[Idx]\n",
    "    return target_word\n",
    "context_test = ['When','forty','winters']\n",
    "sentence = ['When','forty','winters']\n",
    "context_size = len(context_test)\n",
    "for iter in range(200):\n",
    "    #print(context_test)\n",
    "    word = prediction(context_test)  \n",
    "    sentence.append(word)\n",
    "    context_test[0:context_size-1] = context_test[1:]\n",
    "    context_test[-1] = word\n",
    "    #print(context_test)\n",
    "print(len(sentence))\n",
    "print(\" \".join(sentence))"
   ]
  },
  {
   "cell_type": "code",
   "execution_count": 47,
   "metadata": {},
   "outputs": [
    {
     "name": "stdout",
     "output_type": "stream",
     "text": [
      "203\n",
      "  When\n",
      "  forty\n",
      "  winters\n",
      "  shall\n",
      "  besiege\n",
      "  thy\n",
      "  brow,And\n",
      "  dig\n",
      "  deep\n",
      "  trenches\n",
      "  in\n",
      "  thy\n",
      "  beauty's\n",
      "  field,\n",
      "  Thy\n",
      "  youth's\n",
      "  proud\n",
      "  livery\n",
      "  so\n",
      "  gazed\n",
      "  on\n",
      "  now,Will\n",
      "  be\n",
      "  a\n",
      "  totter'd\n",
      "  weed\n",
      "  of\n",
      "  small\n",
      "  worth\n",
      "  held:Then\n",
      "  being\n",
      "  asked,\n",
      "  where\n",
      "  all\n",
      "  thy\n",
      "  beauty\n",
      "  lies,\n",
      "  Where\n",
      "  all\n",
      "  the\n",
      "  treasure\n",
      "  of\n",
      "  thy\n",
      "  lusty\n",
      "  days;\n",
      "  To\n",
      "  say,\n",
      "  within\n",
      "  thine\n",
      "  own\n",
      "  deep\n",
      "  sunken\n",
      "  eyes,\n",
      "  Were\n",
      "  an\n",
      "  all-eating\n",
      "  shame,\n",
      "  and\n",
      "  thriftless\n",
      "  praise.\n",
      "  How\n",
      "  much\n",
      "  more\n",
      "  praise\n",
      "  deserv'd\n",
      "  thy\n",
      "  beauty's\n",
      "  use,If\n",
      "  thou\n",
      "  couldst\n",
      "  answer\n",
      "  'This\n",
      "  fair\n",
      "  child\n",
      "  of\n",
      "  mine\n",
      "  Shall\n",
      "  sum\n",
      "  my\n",
      "  count,\n",
      "  and\n",
      "  make\n",
      "  my\n",
      "  old\n",
      "  excuse,'Proving\n",
      "  his\n",
      "  beauty\n",
      "  by\n",
      "  succession\n",
      "  thine!\n",
      "  This\n",
      "  were\n",
      "  to\n",
      "  be\n",
      "  new\n",
      "  made\n",
      "  when\n",
      "  thou\n",
      "  art\n",
      "  old,\n",
      "  And\n",
      "  see\n",
      "  thy\n",
      "  blood\n",
      "  warm\n",
      "  when\n",
      "  thou\n",
      "  feel'st\n",
      "  it\n",
      "  cold.\n",
      "  The\n",
      "  Continuous\n",
      "  Bag-of-Words\n",
      "  model\n",
      "  (CBOW)\n",
      "  is\n",
      "  frequently\n",
      "  used\n",
      "  in\n",
      "  NLP\n",
      "  deep\n",
      "  learning.\n",
      "  It\n",
      "  is\n",
      "  a\n",
      "  model\n",
      "  that\n",
      "  tries\n",
      "  to\n",
      "  predict\n",
      "  words\n",
      "  given\n",
      "  the\n",
      "  context\n",
      "  of\n",
      "  a\n",
      "  few\n",
      "  words\n",
      "- before\n",
      "- and\n",
      "- a\n",
      "- few\n",
      "- words\n",
      "  after\n",
      "  the\n",
      "  target\n",
      "  word.\n",
      "  This\n",
      "  is\n",
      "  distinct\n",
      "  from\n",
      "  language\n",
      "  modeling,\n",
      "  since\n",
      "  CBOW\n",
      "  is\n",
      "  not\n",
      "  sequential\n",
      "  and\n",
      "  does\n",
      "  not\n",
      "  have\n",
      "  to\n",
      "  be\n",
      "  probabilistic.\n",
      "  Typcially,\n",
      "  CBOW\n",
      "  is\n",
      "  used\n",
      "  to\n",
      "  quickly\n",
      "  train\n",
      "  word\n",
      "  embeddings,\n",
      "  and\n",
      "  these\n",
      "  embeddings\n",
      "  are\n",
      "  used\n",
      "  to\n",
      "  initialize\n",
      "  the\n",
      "  embeddings\n",
      "  of\n",
      "  some\n",
      "  more\n",
      "  complicated\n",
      "  model.\n",
      "  Usually,\n",
      "  this\n",
      "  is\n",
      "  referred\n",
      "  to\n",
      "  as\n",
      "  pretraining\n",
      "  embeddings.\n",
      "  It\n",
      "  almost\n",
      "  always\n",
      "  helps\n",
      "  performance\n",
      "  a\n",
      "  couple\n",
      "+ of\n",
      "+ percent.\n",
      "+ We\n",
      "+ are\n",
      "+ about\n"
     ]
    }
   ],
   "source": [
    "import difflib\n",
    "\n",
    "text1_lines = (\" \".join(test_sentence[0:203])).split()\n",
    "print(len(text1_lines))\n",
    "text2_lines = (\" \".join(sentence)).split()\n",
    "d = difflib.Differ()\n",
    "diff = d.compare(text1_lines, text2_lines)\n",
    "\n",
    "print(\"\\n\".join(list(diff)))"
   ]
  },
  {
   "cell_type": "code",
   "execution_count": 18,
   "metadata": {},
   "outputs": [
    {
     "name": "stdout",
     "output_type": "stream",
     "text": [
      "['dig', 'deep', 'trenches']\n",
      "['dig', 'deep', 'trenches']\n"
     ]
    }
   ],
   "source": [
    "context_test = ['And', 'dig','deep','trenches']\n",
    "a = [word1 for word1 in context_test[1:]]\n",
    "print(a)\n",
    "print(context_test[1:])\n",
    "c = [-10,-5,0,5,3,10,15,-20,25]"
   ]
  },
  {
   "cell_type": "markdown",
   "metadata": {},
   "source": [
    "## 计算单词嵌入: 连续单词包\n",
    " Exercise: Computing Word Embeddings: Continuous Bag-of-Words\n",
    "~~~~~~~~~~~~~~~~~~~~~~~~~~~~~~~~~~~~~~~~~~~~~~~~~~~~~~~~~~~~\n",
    "\n",
    "The Continuous Bag-of-Words model (CBOW) is frequently used in NLP deep\n",
    "learning. It is a model that tries to predict words given the context of\n",
    "a few words before and a few words after the target word. This is\n",
    "distinct from language modeling, since CBOW is not sequential and does\n",
    "not have to be probabilistic. Typcially, CBOW is used to quickly train\n",
    "word embeddings, and these embeddings are used to initialize the\n",
    "embeddings of some more complicated model. Usually, this is referred to\n",
    "as *pretraining embeddings*. It almost always helps performance a couple\n",
    "of percent.\n",
    "\n",
    "The CBOW model is as follows. Given a target word $w_i$ and an\n",
    "$N$ context window on each side, $w_{i-1}, \\dots, w_{i-N}$\n",
    "and $w_{i+1}, \\dots, w_{i+N}$, referring to all context words\n",
    "collectively as $C$, CBOW tries to minimize\n",
    "\n",
    "\\begin{align}-\\log p(w_i | C) = -\\log \\text{Softmax}(A(\\sum_{w \\in C} q_w) + b)\\end{align}\n",
    "\n",
    "where $q_w$ is the embedding for word $w$.\n",
    "\n",
    "Implement this model in Pytorch by filling in the class below. Some\n",
    "tips:\n",
    "\n",
    "* Think about which parameters you need to define.\n",
    "* Make sure you know what shape each operation expects. Use .view() if you need to\n",
    "  reshape.\n",
    "\n",
    "\n"
   ]
  },
  {
   "cell_type": "code",
   "execution_count": 19,
   "metadata": {},
   "outputs": [
    {
     "name": "stdout",
     "output_type": "stream",
     "text": [
      "[(['We', 'are', 'to', 'study'], 'about'), (['are', 'about', 'study', 'the'], 'to'), (['about', 'to', 'the', 'idea'], 'study'), (['to', 'study', 'idea', 'of'], 'the'), (['study', 'the', 'of', 'a'], 'idea')]\n"
     ]
    },
    {
     "data": {
      "text/plain": [
       "tensor([32, 14, 21,  8])"
      ]
     },
     "execution_count": 19,
     "metadata": {},
     "output_type": "execute_result"
    }
   ],
   "source": [
    "CONTEXT_SIZE = 2  # 2 words to the left, 2 to the right\n",
    "raw_text = \"\"\"We are about to study the idea of a computational process.\n",
    "Computational processes are abstract beings that inhabit computers.\n",
    "As they evolve, processes manipulate other abstract things called data.\n",
    "The evolution of a process is directed by a pattern of rules\n",
    "called a program. People create programs to direct processes. In effect,\n",
    "we conjure the spirits of the computer with our spells.\"\"\".split()\n",
    "\n",
    "# By deriving a set from `raw_text`, we deduplicate the array\n",
    "vocab = set(raw_text)\n",
    "vocab_size = len(vocab)\n",
    "\n",
    "word_to_ix = {word: i for i, word in enumerate(vocab)}\n",
    "data = []\n",
    "for i in range(2, len(raw_text) - 2):\n",
    "    context = [raw_text[i - 2], raw_text[i - 1],\n",
    "               raw_text[i + 1], raw_text[i + 2]]\n",
    "    target = raw_text[i]\n",
    "    data.append((context, target))\n",
    "print(data[:5])\n",
    "\n",
    "\n",
    "class CBOW(nn.Module):\n",
    "\n",
    "    def __init__(self):\n",
    "        pass\n",
    "\n",
    "    def forward(self, inputs):\n",
    "        pass\n",
    "\n",
    "# create your model and train.  here are some functions to help you make\n",
    "# the data ready for use by your module\n",
    "\n",
    "\n",
    "def make_context_vector(context, word_to_ix):\n",
    "    idxs = [word_to_ix[w] for w in context]\n",
    "    return torch.tensor(idxs, dtype=torch.long)\n",
    "\n",
    "\n",
    "make_context_vector(data[0][0], word_to_ix)  # example"
   ]
  },
  {
   "cell_type": "code",
   "execution_count": null,
   "metadata": {
    "collapsed": true
   },
   "outputs": [],
   "source": []
  }
 ],
 "metadata": {
  "anaconda-cloud": {},
  "kernelspec": {
   "display_name": "PyTorch",
   "language": "python",
   "name": "pytorch"
  },
  "language_info": {
   "codemirror_mode": {
    "name": "ipython",
    "version": 3
   },
   "file_extension": ".py",
   "mimetype": "text/x-python",
   "name": "python",
   "nbconvert_exporter": "python",
   "pygments_lexer": "ipython3",
   "version": "3.5.4"
  }
 },
 "nbformat": 4,
 "nbformat_minor": 1
}
