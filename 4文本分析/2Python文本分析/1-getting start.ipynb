{
 "cells": [
  {
   "cell_type": "code",
   "execution_count": 1,
   "metadata": {},
   "outputs": [],
   "source": [
    "import nltk\n",
    "# nltk.download()\n",
    "# http://www.nltk.org/"
   ]
  },
  {
   "cell_type": "code",
   "execution_count": 2,
   "metadata": {},
   "outputs": [
    {
     "name": "stdout",
     "output_type": "stream",
     "text": [
      "1161192\n"
     ]
    },
    {
     "data": {
      "text/plain": [
       "['The',\n",
       " 'Fulton',\n",
       " 'County',\n",
       " 'Grand',\n",
       " 'Jury',\n",
       " 'said',\n",
       " 'Friday',\n",
       " 'an',\n",
       " 'investigation',\n",
       " 'of']"
      ]
     },
     "execution_count": 2,
     "metadata": {},
     "output_type": "execute_result"
    }
   ],
   "source": [
    "from nltk.corpus import brown\n",
    "print(len(brown.words()))\n",
    "brown.words()[0:10]"
   ]
  },
  {
   "cell_type": "code",
   "execution_count": 3,
   "metadata": {},
   "outputs": [
    {
     "name": "stdout",
     "output_type": "stream",
     "text": [
      "[('The', 'AT'), ('Fulton', 'NP-TL'), ('County', 'NN-TL'), ('Grand', 'JJ-TL'), ('Jury', 'NN-TL'), ('said', 'VBD'), ('Friday', 'NR'), ('an', 'AT'), ('investigation', 'NN'), ('of', 'IN')]\n",
      "1161192\n"
     ]
    }
   ],
   "source": [
    "#单词及对应的词性\n",
    "print(brown.tagged_words()[0:10])\n",
    "print(len(brown.tagged_words()))"
   ]
  },
  {
   "cell_type": "code",
   "execution_count": 4,
   "metadata": {
    "collapsed": true
   },
   "outputs": [],
   "source": [
    "from nltk import sent_tokenize, word_tokenize, pos_tag\n",
    "\n",
    "text = \"Machine learning is the science of getting computers to act without being explicitly programmed. In the past decade, machine learning has given us self-driving cars, practical speech recognition, effective web search, and a vastly improved understanding of the human genome. Machine learning is so pervasive today that you probably use it dozens of times a day without knowing it. Many researchers also think it is the best way to make progress towards human-level AI. In this class, you will learn about the most effective machine learning techniques, and gain practice implementing them and getting them to work for yourself. More importantly, you'll learn about not only the theoretical underpinnings of learning, but also gain the practical know-how needed to quickly and powerfully apply these techniques to new problems. Finally, you'll learn about some of Silicon Valley's best practices in innovation as it pertains to machine learning and AI.\""
   ]
  },
  {
   "cell_type": "code",
   "execution_count": 5,
   "metadata": {},
   "outputs": [
    {
     "name": "stdout",
     "output_type": "stream",
     "text": [
      "['Machine learning is the science of getting computers to act without being explicitly programmed.', 'In the past decade, machine learning has given us self-driving cars, practical speech recognition, effective web search, and a vastly improved understanding of the human genome.', 'Machine learning is so pervasive today that you probably use it dozens of times a day without knowing it.', 'Many researchers also think it is the best way to make progress towards human-level AI.', 'In this class, you will learn about the most effective machine learning techniques, and gain practice implementing them and getting them to work for yourself.', \"More importantly, you'll learn about not only the theoretical underpinnings of learning, but also gain the practical know-how needed to quickly and powerfully apply these techniques to new problems.\", \"Finally, you'll learn about some of Silicon Valley's best practices in innovation as it pertains to machine learning and AI.\"]\n",
      "['Machine learning is the science of getting computers to act without being explicitly programmed.', 'In the past decade, machine learning has given us self-driving cars, practical speech recognition, effective web search, and a vastly improved understanding of the human genome.', 'Machine learning is so pervasive today that you probably use it dozens of times a day without knowing it.', 'Many researchers also think it is the best way to make progress towards human-level AI.', 'In this class, you will learn about the most effective machine learning techniques, and gain practice implementing them and getting them to work for yourself.', \"More importantly, you'll learn about not only the theoretical underpinnings of learning, but also gain the practical know-how needed to quickly and powerfully apply these techniques to new problems.\", \"Finally, you'll learn about some of Silicon Valley's best practices in innovation as it pertains to machine learning and AI.\"]\n"
     ]
    }
   ],
   "source": [
    "#将文章转换成句子的组合，先得下载好punkt，以'.'作为结束标点，下面两种用法的效果是一样的\n",
    "sents = sent_tokenize(text)\n",
    "print(sents)\n",
    "tokenizer = nltk.data.load('tokenizers/punkt/english.pickle')\n",
    "print(tokenizer.tokenize(text))"
   ]
  },
  {
   "cell_type": "code",
   "execution_count": 6,
   "metadata": {},
   "outputs": [
    {
     "data": {
      "text/plain": [
       "['Machine',\n",
       " 'learning',\n",
       " 'is',\n",
       " 'the',\n",
       " 'science',\n",
       " 'of',\n",
       " 'getting',\n",
       " 'computers',\n",
       " 'to',\n",
       " 'act']"
      ]
     },
     "execution_count": 6,
     "metadata": {},
     "output_type": "execute_result"
    }
   ],
   "source": [
    "##将文章转换成词的组合，先得下载好\n",
    "tokens = word_tokenize(text)\n",
    "tokens[0:10]"
   ]
  },
  {
   "cell_type": "code",
   "execution_count": 7,
   "metadata": {},
   "outputs": [
    {
     "data": {
      "text/plain": [
       "['Machine',\n",
       " 'learning',\n",
       " 'is',\n",
       " 'the',\n",
       " 'science',\n",
       " 'of',\n",
       " 'getting',\n",
       " 'computers',\n",
       " 'to',\n",
       " 'act']"
      ]
     },
     "execution_count": 7,
     "metadata": {},
     "output_type": "execute_result"
    }
   ],
   "source": [
    "#分词\n",
    "text.split(' ')[0:10]"
   ]
  },
  {
   "cell_type": "code",
   "execution_count": 8,
   "metadata": {},
   "outputs": [
    {
     "data": {
      "text/plain": [
       "[('Machine', 'NN'),\n",
       " ('learning', 'NN'),\n",
       " ('is', 'VBZ'),\n",
       " ('the', 'DT'),\n",
       " ('science', 'NN'),\n",
       " ('of', 'IN'),\n",
       " ('getting', 'VBG'),\n",
       " ('computers', 'NNS'),\n",
       " ('to', 'TO'),\n",
       " ('act', 'VB'),\n",
       " ('without', 'IN'),\n",
       " ('being', 'VBG'),\n",
       " ('explicitly', 'RB'),\n",
       " ('programmed', 'VBN'),\n",
       " ('.', '.'),\n",
       " ('In', 'IN'),\n",
       " ('the', 'DT'),\n",
       " ('past', 'JJ'),\n",
       " ('decade', 'NN'),\n",
       " (',', ','),\n",
       " ('machine', 'NN'),\n",
       " ('learning', 'NN'),\n",
       " ('has', 'VBZ'),\n",
       " ('given', 'VBN'),\n",
       " ('us', 'PRP'),\n",
       " ('self-driving', 'JJ'),\n",
       " ('cars', 'NNS'),\n",
       " (',', ','),\n",
       " ('practical', 'JJ'),\n",
       " ('speech', 'NN'),\n",
       " ('recognition', 'NN'),\n",
       " (',', ','),\n",
       " ('effective', 'JJ'),\n",
       " ('web', 'NN'),\n",
       " ('search', 'NN'),\n",
       " (',', ','),\n",
       " ('and', 'CC'),\n",
       " ('a', 'DT'),\n",
       " ('vastly', 'RB'),\n",
       " ('improved', 'VBN'),\n",
       " ('understanding', 'NN'),\n",
       " ('of', 'IN'),\n",
       " ('the', 'DT'),\n",
       " ('human', 'JJ'),\n",
       " ('genome', 'NN'),\n",
       " ('.', '.'),\n",
       " ('Machine', 'NNP'),\n",
       " ('learning', 'NN'),\n",
       " ('is', 'VBZ'),\n",
       " ('so', 'RB'),\n",
       " ('pervasive', 'JJ'),\n",
       " ('today', 'NN'),\n",
       " ('that', 'IN'),\n",
       " ('you', 'PRP'),\n",
       " ('probably', 'RB'),\n",
       " ('use', 'VBP'),\n",
       " ('it', 'PRP'),\n",
       " ('dozens', 'VBZ'),\n",
       " ('of', 'IN'),\n",
       " ('times', 'NNS'),\n",
       " ('a', 'DT'),\n",
       " ('day', 'NN'),\n",
       " ('without', 'IN'),\n",
       " ('knowing', 'VBG'),\n",
       " ('it', 'PRP'),\n",
       " ('.', '.'),\n",
       " ('Many', 'JJ'),\n",
       " ('researchers', 'NNS'),\n",
       " ('also', 'RB'),\n",
       " ('think', 'VBP'),\n",
       " ('it', 'PRP'),\n",
       " ('is', 'VBZ'),\n",
       " ('the', 'DT'),\n",
       " ('best', 'JJS'),\n",
       " ('way', 'NN'),\n",
       " ('to', 'TO'),\n",
       " ('make', 'VB'),\n",
       " ('progress', 'NN'),\n",
       " ('towards', 'IN'),\n",
       " ('human-level', 'NN'),\n",
       " ('AI', 'NNP'),\n",
       " ('.', '.'),\n",
       " ('In', 'IN'),\n",
       " ('this', 'DT'),\n",
       " ('class', 'NN'),\n",
       " (',', ','),\n",
       " ('you', 'PRP'),\n",
       " ('will', 'MD'),\n",
       " ('learn', 'VB'),\n",
       " ('about', 'IN'),\n",
       " ('the', 'DT'),\n",
       " ('most', 'RBS'),\n",
       " ('effective', 'JJ'),\n",
       " ('machine', 'NN'),\n",
       " ('learning', 'VBG'),\n",
       " ('techniques', 'NNS'),\n",
       " (',', ','),\n",
       " ('and', 'CC'),\n",
       " ('gain', 'NN'),\n",
       " ('practice', 'NN'),\n",
       " ('implementing', 'VBG'),\n",
       " ('them', 'PRP'),\n",
       " ('and', 'CC'),\n",
       " ('getting', 'VBG'),\n",
       " ('them', 'PRP'),\n",
       " ('to', 'TO'),\n",
       " ('work', 'VB'),\n",
       " ('for', 'IN'),\n",
       " ('yourself', 'PRP'),\n",
       " ('.', '.'),\n",
       " ('More', 'RBR'),\n",
       " ('importantly', 'RB'),\n",
       " (',', ','),\n",
       " ('you', 'PRP'),\n",
       " (\"'ll\", 'MD'),\n",
       " ('learn', 'VB'),\n",
       " ('about', 'IN'),\n",
       " ('not', 'RB'),\n",
       " ('only', 'RB'),\n",
       " ('the', 'DT'),\n",
       " ('theoretical', 'JJ'),\n",
       " ('underpinnings', 'NNS'),\n",
       " ('of', 'IN'),\n",
       " ('learning', 'NN'),\n",
       " (',', ','),\n",
       " ('but', 'CC'),\n",
       " ('also', 'RB'),\n",
       " ('gain', 'VBP'),\n",
       " ('the', 'DT'),\n",
       " ('practical', 'JJ'),\n",
       " ('know-how', 'NN'),\n",
       " ('needed', 'VBN'),\n",
       " ('to', 'TO'),\n",
       " ('quickly', 'RB'),\n",
       " ('and', 'CC'),\n",
       " ('powerfully', 'RB'),\n",
       " ('apply', 'VB'),\n",
       " ('these', 'DT'),\n",
       " ('techniques', 'NNS'),\n",
       " ('to', 'TO'),\n",
       " ('new', 'JJ'),\n",
       " ('problems', 'NNS'),\n",
       " ('.', '.'),\n",
       " ('Finally', 'RB'),\n",
       " (',', ','),\n",
       " ('you', 'PRP'),\n",
       " (\"'ll\", 'MD'),\n",
       " ('learn', 'VB'),\n",
       " ('about', 'IN'),\n",
       " ('some', 'DT'),\n",
       " ('of', 'IN'),\n",
       " ('Silicon', 'NNP'),\n",
       " ('Valley', 'NNP'),\n",
       " (\"'s\", 'POS'),\n",
       " ('best', 'JJS'),\n",
       " ('practices', 'NNS'),\n",
       " ('in', 'IN'),\n",
       " ('innovation', 'NN'),\n",
       " ('as', 'IN'),\n",
       " ('it', 'PRP'),\n",
       " ('pertains', 'VBZ'),\n",
       " ('to', 'TO'),\n",
       " ('machine', 'NN'),\n",
       " ('learning', 'NN'),\n",
       " ('and', 'CC'),\n",
       " ('AI', 'NNP'),\n",
       " ('.', '.')]"
      ]
     },
     "execution_count": 8,
     "metadata": {},
     "output_type": "execute_result"
    }
   ],
   "source": [
    "#词性\n",
    "tagged_tokens = pos_tag(tokens)\n",
    "tagged_tokens"
   ]
  },
  {
   "cell_type": "code",
   "execution_count": null,
   "metadata": {
    "collapsed": true
   },
   "outputs": [],
   "source": []
  }
 ],
 "metadata": {
  "anaconda-cloud": {},
  "kernelspec": {
   "display_name": "Python 3",
   "language": "python",
   "name": "python3"
  },
  "language_info": {
   "codemirror_mode": {
    "name": "ipython",
    "version": 3
   },
   "file_extension": ".py",
   "mimetype": "text/x-python",
   "name": "python",
   "nbconvert_exporter": "python",
   "pygments_lexer": "ipython3",
   "version": "3.6.8"
  }
 },
 "nbformat": 4,
 "nbformat_minor": 1
}
